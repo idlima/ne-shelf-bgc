{
 "cells": [
  {
   "cell_type": "markdown",
   "id": "ed8a1317-8656-4cb3-9400-9dd49cdbc611",
   "metadata": {},
   "source": [
    "# Apply neural network model to CTD/WOD data\n",
    "Created by Ivan Lima on Sun Feb 12 2023 10:17:07 -0500"
   ]
  },
  {
   "cell_type": "code",
   "execution_count": 1,
   "id": "f8d3f6ca-ec79-4957-9b6e-0b175aed2701",
   "metadata": {},
   "outputs": [
    {
     "name": "stdout",
     "output_type": "stream",
     "text": [
      "Last updated on Sun Feb 12 12:45:01 2023\n"
     ]
    }
   ],
   "source": [
    "import pandas as pd\n",
    "import numpy as np\n",
    "import os, datetime, warnings\n",
    "print('Last updated on {}'.format(datetime.datetime.now().ctime()))"
   ]
  },
  {
   "cell_type": "code",
   "execution_count": 2,
   "id": "ddee4c93-5640-4274-b525-a5a1f537af52",
   "metadata": {},
   "outputs": [],
   "source": [
    "pd.options.display.max_columns = 50\n",
    "warnings.filterwarnings('ignore')"
   ]
  },
  {
   "cell_type": "markdown",
   "id": "4a566a08-dd80-443d-b941-dcec1f14f803",
   "metadata": {},
   "source": [
    "## Read merged CTD & satellite data"
   ]
  },
  {
   "cell_type": "code",
   "execution_count": 3,
   "id": "4ee58f36-e2b3-4c0f-bc11-c8b290a3753b",
   "metadata": {},
   "outputs": [
    {
     "name": "stdout",
     "output_type": "stream",
     "text": [
      "Total number of valid CTD points: 10,653,902\n",
      "\n"
     ]
    }
   ],
   "source": [
    "# Set input variables\n",
    "features = ['Depth', 'Temperature', 'Salinity', 'pCO2_year', 'ADT', 'SST_hires', 'log_KD490']\n",
    "\n",
    "df_ctd = pd.read_hdf('data/CombinedCTD_satellite_2000-2021.h5', key='df_ctd_sat')\n",
    "df_ctd['log_KD490'] = np.log(df_ctd.KD490) # log-transformed KD490\n",
    "df_ctd = df_ctd[~df_ctd[features].isnull().any(axis=1)]\n",
    "\n",
    "print('Total number of valid CTD points: {:,}\\n'.format(len(df_ctd)))\n",
    "# df_ctd.info()"
   ]
  },
  {
   "cell_type": "markdown",
   "id": "2f0ae8b6-0a1a-43ed-8300-4e57fa00dc1d",
   "metadata": {},
   "source": [
    "## Load trained neural network models & apply them to CTD/WOD data"
   ]
  },
  {
   "cell_type": "code",
   "execution_count": 4,
   "id": "42267f8d-b6f4-4285-b3ee-2bc0e85e7174",
   "metadata": {},
   "outputs": [
    {
     "name": "stderr",
     "output_type": "stream",
     "text": [
      "2023-02-12 12:45:16.168553: I tensorflow/core/platform/cpu_feature_guard.cc:151] This TensorFlow binary is optimized with oneAPI Deep Neural Network Library (oneDNN) to use the following CPU instructions in performance-critical operations:  SSE4.1 SSE4.2 AVX AVX2 FMA\n",
      "To enable them in other operations, rebuild TensorFlow with the appropriate compiler flags.\n"
     ]
    },
    {
     "data": {
      "text/html": [
       "<div>\n",
       "<style scoped>\n",
       "    .dataframe tbody tr th:only-of-type {\n",
       "        vertical-align: middle;\n",
       "    }\n",
       "\n",
       "    .dataframe tbody tr th {\n",
       "        vertical-align: top;\n",
       "    }\n",
       "\n",
       "    .dataframe thead th {\n",
       "        text-align: right;\n",
       "    }\n",
       "</style>\n",
       "<table border=\"1\" class=\"dataframe\">\n",
       "  <thead>\n",
       "    <tr style=\"text-align: right;\">\n",
       "      <th></th>\n",
       "      <th>Depth</th>\n",
       "      <th>Temperature</th>\n",
       "      <th>Salinity</th>\n",
       "      <th>pCO2_year</th>\n",
       "      <th>ADT</th>\n",
       "      <th>SST_hires</th>\n",
       "      <th>log_KD490</th>\n",
       "      <th>DIC</th>\n",
       "      <th>TA</th>\n",
       "    </tr>\n",
       "  </thead>\n",
       "  <tbody>\n",
       "    <tr>\n",
       "      <th>527155</th>\n",
       "      <td>1.984350</td>\n",
       "      <td>8.57</td>\n",
       "      <td>32.401001</td>\n",
       "      <td>373.45</td>\n",
       "      <td>-0.110335</td>\n",
       "      <td>9.777556</td>\n",
       "      <td>-2.493288</td>\n",
       "      <td>2027.638916</td>\n",
       "      <td>2202.627197</td>\n",
       "    </tr>\n",
       "    <tr>\n",
       "      <th>527156</th>\n",
       "      <td>2.976518</td>\n",
       "      <td>7.91</td>\n",
       "      <td>32.492001</td>\n",
       "      <td>373.45</td>\n",
       "      <td>-0.110335</td>\n",
       "      <td>9.777556</td>\n",
       "      <td>-2.493288</td>\n",
       "      <td>2039.100586</td>\n",
       "      <td>2209.789795</td>\n",
       "    </tr>\n",
       "    <tr>\n",
       "      <th>527157</th>\n",
       "      <td>3.968682</td>\n",
       "      <td>7.74</td>\n",
       "      <td>32.466000</td>\n",
       "      <td>373.45</td>\n",
       "      <td>-0.110335</td>\n",
       "      <td>9.777556</td>\n",
       "      <td>-2.493288</td>\n",
       "      <td>2040.167847</td>\n",
       "      <td>2209.253418</td>\n",
       "    </tr>\n",
       "    <tr>\n",
       "      <th>527158</th>\n",
       "      <td>4.960840</td>\n",
       "      <td>7.64</td>\n",
       "      <td>32.556999</td>\n",
       "      <td>373.45</td>\n",
       "      <td>-0.110335</td>\n",
       "      <td>9.777556</td>\n",
       "      <td>-2.493288</td>\n",
       "      <td>2044.105103</td>\n",
       "      <td>2213.754150</td>\n",
       "    </tr>\n",
       "    <tr>\n",
       "      <th>527159</th>\n",
       "      <td>5.952994</td>\n",
       "      <td>7.57</td>\n",
       "      <td>32.673000</td>\n",
       "      <td>373.45</td>\n",
       "      <td>-0.110335</td>\n",
       "      <td>9.777556</td>\n",
       "      <td>-2.493288</td>\n",
       "      <td>2048.466064</td>\n",
       "      <td>2218.818359</td>\n",
       "    </tr>\n",
       "  </tbody>\n",
       "</table>\n",
       "</div>"
      ],
      "text/plain": [
       "           Depth  Temperature   Salinity  pCO2_year       ADT  SST_hires  \\\n",
       "527155  1.984350         8.57  32.401001     373.45 -0.110335   9.777556   \n",
       "527156  2.976518         7.91  32.492001     373.45 -0.110335   9.777556   \n",
       "527157  3.968682         7.74  32.466000     373.45 -0.110335   9.777556   \n",
       "527158  4.960840         7.64  32.556999     373.45 -0.110335   9.777556   \n",
       "527159  5.952994         7.57  32.673000     373.45 -0.110335   9.777556   \n",
       "\n",
       "        log_KD490          DIC           TA  \n",
       "527155  -2.493288  2027.638916  2202.627197  \n",
       "527156  -2.493288  2039.100586  2209.789795  \n",
       "527157  -2.493288  2040.167847  2209.253418  \n",
       "527158  -2.493288  2044.105103  2213.754150  \n",
       "527159  -2.493288  2048.466064  2218.818359  "
      ]
     },
     "execution_count": 4,
     "metadata": {},
     "output_type": "execute_result"
    }
   ],
   "source": [
    "import tensorflow as tf\n",
    "from tensorflow import keras\n",
    "\n",
    "model_dic = keras.models.load_model('models/nn_regression_dic_noO2.h5')\n",
    "model_ta = keras.models.load_model('models/nn_regression_ta_noO2.h5')\n",
    "\n",
    "X = df_ctd[features].values\n",
    "\n",
    "# add estimated DIC & TA to dataframe\n",
    "df_ctd['DIC'] = (model_dic.predict(X)).ravel()\n",
    "df_ctd['TA'] = (model_ta.predict(X)).ravel()\n",
    "\n",
    "df_ctd[features + ['DIC', 'TA']].head()"
   ]
  },
  {
   "cell_type": "markdown",
   "id": "f9440207-ece5-4696-a1a0-38b93662e062",
   "metadata": {},
   "source": [
    "## Write CTD/WOD data with DIC & TA predictions to HDF5 file "
   ]
  },
  {
   "cell_type": "code",
   "execution_count": 5,
   "id": "f777a1f1-15cb-4150-a261-7ecec30e3501",
   "metadata": {},
   "outputs": [
    {
     "name": "stdout",
     "output_type": "stream",
     "text": [
      "writing data/CombinedCTD_satellite_bgc_2002-2018.h5\n"
     ]
    }
   ],
   "source": [
    "yr_min, yr_max = df_ctd.Date.dt.year.min(), df_ctd.Date.dt.year.max()\n",
    "outfile = 'data/CombinedCTD_satellite_bgc_{}-{}.h5'.format(yr_min, yr_max)\n",
    "print('writing {}'.format(outfile))\n",
    "df_ctd.to_hdf(outfile, key='df_ctd', mode='w', complevel=9)"
   ]
  },
  {
   "cell_type": "markdown",
   "id": "eab21048-6aa5-4293-8955-d6dbf80914c5",
   "metadata": {},
   "source": [
    "## Make DIC & TA predictions using 1/4 degree SST instead of high resolution SST "
   ]
  },
  {
   "cell_type": "code",
   "execution_count": 6,
   "id": "1d052462-afa7-4d91-bf0d-936d2c722736",
   "metadata": {},
   "outputs": [
    {
     "name": "stdout",
     "output_type": "stream",
     "text": [
      "Total number of valid CTD points: 11,178,099\n",
      "\n"
     ]
    }
   ],
   "source": [
    "features2 = ['Depth', 'Temperature', 'Salinity', 'pCO2_year', 'ADT', 'SST', 'log_KD490']\n",
    "\n",
    "df_ctd = pd.read_hdf('data/CombinedCTD_satellite_2000-2021.h5', key='df_ctd_sat')\n",
    "df_ctd['log_KD490'] = np.log(df_ctd.KD490) # log-transformed KD490\n",
    "df_ctd = df_ctd[~df_ctd[features2].isnull().any(axis=1)]\n",
    "\n",
    "print('Total number of valid CTD points: {:,}\\n'.format(len(df_ctd)))"
   ]
  },
  {
   "cell_type": "code",
   "execution_count": 7,
   "id": "2f8e9aaa-2cd4-4106-980c-d07c1f8c27ba",
   "metadata": {},
   "outputs": [
    {
     "data": {
      "text/html": [
       "<div>\n",
       "<style scoped>\n",
       "    .dataframe tbody tr th:only-of-type {\n",
       "        vertical-align: middle;\n",
       "    }\n",
       "\n",
       "    .dataframe tbody tr th {\n",
       "        vertical-align: top;\n",
       "    }\n",
       "\n",
       "    .dataframe thead th {\n",
       "        text-align: right;\n",
       "    }\n",
       "</style>\n",
       "<table border=\"1\" class=\"dataframe\">\n",
       "  <thead>\n",
       "    <tr style=\"text-align: right;\">\n",
       "      <th></th>\n",
       "      <th>Depth</th>\n",
       "      <th>Temperature</th>\n",
       "      <th>Salinity</th>\n",
       "      <th>pCO2_year</th>\n",
       "      <th>ADT</th>\n",
       "      <th>SST</th>\n",
       "      <th>log_KD490</th>\n",
       "      <th>DIC</th>\n",
       "      <th>TA</th>\n",
       "    </tr>\n",
       "  </thead>\n",
       "  <tbody>\n",
       "    <tr>\n",
       "      <th>0</th>\n",
       "      <td>1.487919</td>\n",
       "      <td>3.561</td>\n",
       "      <td>29.858999</td>\n",
       "      <td>369.71</td>\n",
       "      <td>-0.118689</td>\n",
       "      <td>4.510375</td>\n",
       "      <td>-2.786163</td>\n",
       "      <td>1987.524414</td>\n",
       "      <td>2164.142334</td>\n",
       "    </tr>\n",
       "    <tr>\n",
       "      <th>1</th>\n",
       "      <td>1.983890</td>\n",
       "      <td>3.565</td>\n",
       "      <td>31.264999</td>\n",
       "      <td>369.71</td>\n",
       "      <td>-0.118689</td>\n",
       "      <td>4.510375</td>\n",
       "      <td>-2.786163</td>\n",
       "      <td>2031.810059</td>\n",
       "      <td>2192.474854</td>\n",
       "    </tr>\n",
       "    <tr>\n",
       "      <th>2</th>\n",
       "      <td>2.479860</td>\n",
       "      <td>3.569</td>\n",
       "      <td>30.969000</td>\n",
       "      <td>369.71</td>\n",
       "      <td>-0.118689</td>\n",
       "      <td>4.510375</td>\n",
       "      <td>-2.786163</td>\n",
       "      <td>2021.571533</td>\n",
       "      <td>2184.806885</td>\n",
       "    </tr>\n",
       "    <tr>\n",
       "      <th>3</th>\n",
       "      <td>2.975828</td>\n",
       "      <td>3.567</td>\n",
       "      <td>30.922001</td>\n",
       "      <td>369.71</td>\n",
       "      <td>-0.118689</td>\n",
       "      <td>4.510375</td>\n",
       "      <td>-2.786163</td>\n",
       "      <td>2019.959839</td>\n",
       "      <td>2183.809814</td>\n",
       "    </tr>\n",
       "    <tr>\n",
       "      <th>4</th>\n",
       "      <td>3.471795</td>\n",
       "      <td>3.568</td>\n",
       "      <td>30.922001</td>\n",
       "      <td>369.71</td>\n",
       "      <td>-0.118689</td>\n",
       "      <td>4.510375</td>\n",
       "      <td>-2.786163</td>\n",
       "      <td>2020.064331</td>\n",
       "      <td>2183.827393</td>\n",
       "    </tr>\n",
       "  </tbody>\n",
       "</table>\n",
       "</div>"
      ],
      "text/plain": [
       "      Depth  Temperature   Salinity  pCO2_year       ADT       SST  log_KD490  \\\n",
       "0  1.487919        3.561  29.858999     369.71 -0.118689  4.510375  -2.786163   \n",
       "1  1.983890        3.565  31.264999     369.71 -0.118689  4.510375  -2.786163   \n",
       "2  2.479860        3.569  30.969000     369.71 -0.118689  4.510375  -2.786163   \n",
       "3  2.975828        3.567  30.922001     369.71 -0.118689  4.510375  -2.786163   \n",
       "4  3.471795        3.568  30.922001     369.71 -0.118689  4.510375  -2.786163   \n",
       "\n",
       "           DIC           TA  \n",
       "0  1987.524414  2164.142334  \n",
       "1  2031.810059  2192.474854  \n",
       "2  2021.571533  2184.806885  \n",
       "3  2019.959839  2183.809814  \n",
       "4  2020.064331  2183.827393  "
      ]
     },
     "execution_count": 7,
     "metadata": {},
     "output_type": "execute_result"
    }
   ],
   "source": [
    "X = df_ctd[features2].values\n",
    "\n",
    "# add estimated DIC & TA to dataframe\n",
    "df_ctd['DIC'] = (model_dic.predict(X)).ravel()\n",
    "df_ctd['TA'] = (model_ta.predict(X)).ravel()\n",
    "\n",
    "df_ctd[features2 + ['DIC', 'TA']].head()"
   ]
  },
  {
   "cell_type": "code",
   "execution_count": 8,
   "id": "216ca526-ad4a-40e6-875a-bf2a786c98a4",
   "metadata": {},
   "outputs": [
    {
     "name": "stdout",
     "output_type": "stream",
     "text": [
      "writing data/CombinedCTD_satellite_bgc_2000-2018.h5\n"
     ]
    }
   ],
   "source": [
    "yr_min, yr_max = df_ctd.Date.dt.year.min(), df_ctd.Date.dt.year.max()\n",
    "outfile = 'data/CombinedCTD_satellite_bgc_{}-{}.h5'.format(yr_min, yr_max)\n",
    "print('writing {}'.format(outfile))\n",
    "df_ctd.to_hdf(outfile, key='df_ctd', mode='w', complevel=9)"
   ]
  }
 ],
 "metadata": {
  "kernelspec": {
   "display_name": "Python 3 (ipykernel)",
   "language": "python",
   "name": "python3"
  },
  "language_info": {
   "codemirror_mode": {
    "name": "ipython",
    "version": 3
   },
   "file_extension": ".py",
   "mimetype": "text/x-python",
   "name": "python",
   "nbconvert_exporter": "python",
   "pygments_lexer": "ipython3",
   "version": "3.9.13"
  },
  "widgets": {
   "application/vnd.jupyter.widget-state+json": {
    "state": {},
    "version_major": 2,
    "version_minor": 0
   }
  }
 },
 "nbformat": 4,
 "nbformat_minor": 5
}
