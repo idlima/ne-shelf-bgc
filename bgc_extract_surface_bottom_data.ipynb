{
 "cells": [
  {
   "cell_type": "markdown",
   "id": "bb98af56-d176-4478-b37b-eb5229c9446c",
   "metadata": {},
   "source": [
    "# Compute additional carbon chemistry variables and extract surface and bottom data\n",
    "Created by Ivan Lima on Thu Jan  6 2022 11:17:56 -0500"
   ]
  },
  {
   "cell_type": "markdown",
   "id": "0503980d-e1e0-4868-8294-0475538c2d17",
   "metadata": {},
   "source": [
    "In this notebook we compute additional carbon chemistry variables, extract the data near the surface and bottom and create seasonal and monthly fields of surface and bottom DIC and TA using interpolation. "
   ]
  },
  {
   "cell_type": "code",
   "execution_count": 1,
   "id": "31feb5fe-22ca-4d43-8bb6-b3eb77a949e5",
   "metadata": {},
   "outputs": [
    {
     "name": "stdout",
     "output_type": "stream",
     "text": [
      "Last updated on Sun Feb 12 13:18:07 2023\n"
     ]
    }
   ],
   "source": [
    "import pandas as pd\n",
    "import numpy as np\n",
    "import datetime, warnings\n",
    "warnings.filterwarnings('ignore')\n",
    "print('Last updated on {}'.format(datetime.datetime.now().ctime()))"
   ]
  },
  {
   "cell_type": "markdown",
   "id": "9567c8a1-86e7-457f-bb2d-637533da6daf",
   "metadata": {},
   "source": [
    "## Read data"
   ]
  },
  {
   "cell_type": "code",
   "execution_count": 2,
   "id": "93df2005-b39f-47eb-9dd7-d60dbcb23d9f",
   "metadata": {},
   "outputs": [
    {
     "data": {
      "text/html": [
       "<div>\n",
       "<style scoped>\n",
       "    .dataframe tbody tr th:only-of-type {\n",
       "        vertical-align: middle;\n",
       "    }\n",
       "\n",
       "    .dataframe tbody tr th {\n",
       "        vertical-align: top;\n",
       "    }\n",
       "\n",
       "    .dataframe thead th {\n",
       "        text-align: right;\n",
       "    }\n",
       "</style>\n",
       "<table border=\"1\" class=\"dataframe\">\n",
       "  <thead>\n",
       "    <tr style=\"text-align: right;\">\n",
       "      <th></th>\n",
       "      <th>Cast</th>\n",
       "      <th>Latitude</th>\n",
       "      <th>Longitude</th>\n",
       "      <th>Date</th>\n",
       "      <th>Depth</th>\n",
       "      <th>Temperature</th>\n",
       "      <th>Salinity</th>\n",
       "      <th>DIC</th>\n",
       "      <th>TA</th>\n",
       "      <th>Platform_Type</th>\n",
       "      <th>season</th>\n",
       "    </tr>\n",
       "  </thead>\n",
       "  <tbody>\n",
       "    <tr>\n",
       "      <th>2915136</th>\n",
       "      <td>15637258.0</td>\n",
       "      <td>44.267502</td>\n",
       "      <td>-63.317699</td>\n",
       "      <td>2013-01-09</td>\n",
       "      <td>0.991947</td>\n",
       "      <td>3.952</td>\n",
       "      <td>30.871000</td>\n",
       "      <td>2027.100586</td>\n",
       "      <td>2133.916748</td>\n",
       "      <td>1.0</td>\n",
       "      <td>winter</td>\n",
       "    </tr>\n",
       "    <tr>\n",
       "      <th>2915137</th>\n",
       "      <td>15637258.0</td>\n",
       "      <td>44.267502</td>\n",
       "      <td>-63.317699</td>\n",
       "      <td>2013-01-09</td>\n",
       "      <td>1.487919</td>\n",
       "      <td>3.943</td>\n",
       "      <td>30.868999</td>\n",
       "      <td>2027.211426</td>\n",
       "      <td>2133.908447</td>\n",
       "      <td>1.0</td>\n",
       "      <td>winter</td>\n",
       "    </tr>\n",
       "    <tr>\n",
       "      <th>2915138</th>\n",
       "      <td>15637258.0</td>\n",
       "      <td>44.267502</td>\n",
       "      <td>-63.317699</td>\n",
       "      <td>2013-01-09</td>\n",
       "      <td>1.983890</td>\n",
       "      <td>3.937</td>\n",
       "      <td>30.870001</td>\n",
       "      <td>2027.398438</td>\n",
       "      <td>2133.979980</td>\n",
       "      <td>1.0</td>\n",
       "      <td>winter</td>\n",
       "    </tr>\n",
       "    <tr>\n",
       "      <th>2915139</th>\n",
       "      <td>15637258.0</td>\n",
       "      <td>44.267502</td>\n",
       "      <td>-63.317699</td>\n",
       "      <td>2013-01-09</td>\n",
       "      <td>2.479859</td>\n",
       "      <td>3.936</td>\n",
       "      <td>30.870001</td>\n",
       "      <td>2027.531860</td>\n",
       "      <td>2134.018555</td>\n",
       "      <td>1.0</td>\n",
       "      <td>winter</td>\n",
       "    </tr>\n",
       "    <tr>\n",
       "      <th>2915140</th>\n",
       "      <td>15637258.0</td>\n",
       "      <td>44.267502</td>\n",
       "      <td>-63.317699</td>\n",
       "      <td>2013-01-09</td>\n",
       "      <td>2.975827</td>\n",
       "      <td>3.936</td>\n",
       "      <td>30.870001</td>\n",
       "      <td>2027.660767</td>\n",
       "      <td>2134.056396</td>\n",
       "      <td>1.0</td>\n",
       "      <td>winter</td>\n",
       "    </tr>\n",
       "  </tbody>\n",
       "</table>\n",
       "</div>"
      ],
      "text/plain": [
       "               Cast   Latitude  Longitude       Date     Depth  Temperature  \\\n",
       "2915136  15637258.0  44.267502 -63.317699 2013-01-09  0.991947        3.952   \n",
       "2915137  15637258.0  44.267502 -63.317699 2013-01-09  1.487919        3.943   \n",
       "2915138  15637258.0  44.267502 -63.317699 2013-01-09  1.983890        3.937   \n",
       "2915139  15637258.0  44.267502 -63.317699 2013-01-09  2.479859        3.936   \n",
       "2915140  15637258.0  44.267502 -63.317699 2013-01-09  2.975827        3.936   \n",
       "\n",
       "          Salinity          DIC           TA  Platform_Type  season  \n",
       "2915136  30.871000  2027.100586  2133.916748            1.0  winter  \n",
       "2915137  30.868999  2027.211426  2133.908447            1.0  winter  \n",
       "2915138  30.870001  2027.398438  2133.979980            1.0  winter  \n",
       "2915139  30.870001  2027.531860  2134.018555            1.0  winter  \n",
       "2915140  30.870001  2027.660767  2134.056396            1.0  winter  "
      ]
     },
     "execution_count": 2,
     "metadata": {},
     "output_type": "execute_result"
    }
   ],
   "source": [
    "cols = ['Cast', 'Latitude', 'Longitude', 'Date', 'Depth', 'Temperature', 'Salinity', 'DIC', 'TA', 'Platform_Type']\n",
    "df_wod = pd.read_hdf('data/CombinedCTD_satellite_bgc_2002-2018.h5', key='df_ctd')\n",
    "df_wod = df_wod[cols]\n",
    "df_wod = df_wod[df_wod.Date.dt.year>2012] # use only contemporary data\n",
    "df_wod = df_wod[df_wod.Depth<600]         # use only shelf data\n",
    "df_wod.loc[df_wod.Date.dt.month.isin([1,2,12]),'season'] = 'winter' # set seasons\n",
    "df_wod.loc[df_wod.Date.dt.month.isin([3,4,5]),'season'] = 'spring'\n",
    "df_wod.loc[df_wod.Date.dt.month.isin([6,7,8]),'season'] = 'summer'\n",
    "df_wod.loc[df_wod.Date.dt.month.isin([9,10,11]),'season'] = 'fall'\n",
    "df_wod.head()"
   ]
  },
  {
   "cell_type": "markdown",
   "id": "31b2180d-2417-481d-876f-d7e30945d59f",
   "metadata": {},
   "source": [
    "## Remove ouliers ($x < -3\\sigma$ or $ x > 3\\sigma$)"
   ]
  },
  {
   "cell_type": "code",
   "execution_count": 3,
   "id": "57695dc1-87d8-4398-a9ee-8a668e9437cd",
   "metadata": {},
   "outputs": [
    {
     "name": "stdout",
     "output_type": "stream",
     "text": [
      "Original data: 8,056,263 points\n",
      "Cleaned data:  8,030,764 points\n",
      "25,499 points removed (0.32%)\n"
     ]
    }
   ],
   "source": [
    "df = df_wod[['Temperature', 'Salinity', 'DIC', 'TA']]\n",
    "df_clean = df[np.abs(df - df.mean()) < 3*df.std()].dropna()\n",
    "n_orig, n_clean = len(df_wod), len(df_clean)\n",
    "df_wod = df_wod.reindex(df_clean.index)\n",
    "print('Original data: {:,} points'.format(n_orig))\n",
    "print('Cleaned data:  {:,} points'.format(n_clean))\n",
    "print('{:,} points removed ({:.2f}%)'.format(n_orig - n_clean, (n_orig - n_clean)/n_orig * 100))"
   ]
  },
  {
   "cell_type": "markdown",
   "id": "5ecda255-3e2d-4b4c-ac86-482e507a02fc",
   "metadata": {},
   "source": [
    "## Compute additional carbon chemistry variables"
   ]
  },
  {
   "cell_type": "code",
   "execution_count": 4,
   "id": "fd13d37d-f1be-44fe-823e-cbf8e16781c9",
   "metadata": {},
   "outputs": [
    {
     "data": {
      "text/html": [
       "<div>\n",
       "<style scoped>\n",
       "    .dataframe tbody tr th:only-of-type {\n",
       "        vertical-align: middle;\n",
       "    }\n",
       "\n",
       "    .dataframe tbody tr th {\n",
       "        vertical-align: top;\n",
       "    }\n",
       "\n",
       "    .dataframe thead th {\n",
       "        text-align: right;\n",
       "    }\n",
       "</style>\n",
       "<table border=\"1\" class=\"dataframe\">\n",
       "  <thead>\n",
       "    <tr style=\"text-align: right;\">\n",
       "      <th></th>\n",
       "      <th>Cast</th>\n",
       "      <th>Latitude</th>\n",
       "      <th>Longitude</th>\n",
       "      <th>Date</th>\n",
       "      <th>Depth</th>\n",
       "      <th>Temperature</th>\n",
       "      <th>Salinity</th>\n",
       "      <th>DIC</th>\n",
       "      <th>TA</th>\n",
       "      <th>Platform_Type</th>\n",
       "      <th>season</th>\n",
       "      <th>pH</th>\n",
       "      <th>pCO2</th>\n",
       "      <th>fCO2</th>\n",
       "      <th>saturation_calcite</th>\n",
       "      <th>saturation_aragonite</th>\n",
       "    </tr>\n",
       "  </thead>\n",
       "  <tbody>\n",
       "    <tr>\n",
       "      <th>2915136</th>\n",
       "      <td>15637258.0</td>\n",
       "      <td>44.267502</td>\n",
       "      <td>-63.317699</td>\n",
       "      <td>2013-01-09</td>\n",
       "      <td>0.991947</td>\n",
       "      <td>3.952</td>\n",
       "      <td>30.871000</td>\n",
       "      <td>2027.100586</td>\n",
       "      <td>2133.916748</td>\n",
       "      <td>1.0</td>\n",
       "      <td>winter</td>\n",
       "      <td>8.003920</td>\n",
       "      <td>414.666359</td>\n",
       "      <td>412.938210</td>\n",
       "      <td>2.056616</td>\n",
       "      <td>1.285192</td>\n",
       "    </tr>\n",
       "    <tr>\n",
       "      <th>2915137</th>\n",
       "      <td>15637258.0</td>\n",
       "      <td>44.267502</td>\n",
       "      <td>-63.317699</td>\n",
       "      <td>2013-01-09</td>\n",
       "      <td>1.487919</td>\n",
       "      <td>3.943</td>\n",
       "      <td>30.868999</td>\n",
       "      <td>2027.211426</td>\n",
       "      <td>2133.908447</td>\n",
       "      <td>1.0</td>\n",
       "      <td>winter</td>\n",
       "      <td>8.003702</td>\n",
       "      <td>414.859819</td>\n",
       "      <td>413.130657</td>\n",
       "      <td>2.054792</td>\n",
       "      <td>1.284039</td>\n",
       "    </tr>\n",
       "    <tr>\n",
       "      <th>2915138</th>\n",
       "      <td>15637258.0</td>\n",
       "      <td>44.267502</td>\n",
       "      <td>-63.317699</td>\n",
       "      <td>2013-01-09</td>\n",
       "      <td>1.983890</td>\n",
       "      <td>3.937</td>\n",
       "      <td>30.870001</td>\n",
       "      <td>2027.398438</td>\n",
       "      <td>2133.979980</td>\n",
       "      <td>1.0</td>\n",
       "      <td>winter</td>\n",
       "      <td>8.003403</td>\n",
       "      <td>415.151286</td>\n",
       "      <td>413.420772</td>\n",
       "      <td>2.053030</td>\n",
       "      <td>1.282941</td>\n",
       "    </tr>\n",
       "    <tr>\n",
       "      <th>2915139</th>\n",
       "      <td>15637258.0</td>\n",
       "      <td>44.267502</td>\n",
       "      <td>-63.317699</td>\n",
       "      <td>2013-01-09</td>\n",
       "      <td>2.479859</td>\n",
       "      <td>3.936</td>\n",
       "      <td>30.870001</td>\n",
       "      <td>2027.531860</td>\n",
       "      <td>2134.018555</td>\n",
       "      <td>1.0</td>\n",
       "      <td>winter</td>\n",
       "      <td>8.003103</td>\n",
       "      <td>415.447770</td>\n",
       "      <td>413.715997</td>\n",
       "      <td>2.051575</td>\n",
       "      <td>1.282038</td>\n",
       "    </tr>\n",
       "    <tr>\n",
       "      <th>2915140</th>\n",
       "      <td>15637258.0</td>\n",
       "      <td>44.267502</td>\n",
       "      <td>-63.317699</td>\n",
       "      <td>2013-01-09</td>\n",
       "      <td>2.975827</td>\n",
       "      <td>3.936</td>\n",
       "      <td>30.870001</td>\n",
       "      <td>2027.660767</td>\n",
       "      <td>2134.056396</td>\n",
       "      <td>1.0</td>\n",
       "      <td>winter</td>\n",
       "      <td>8.002800</td>\n",
       "      <td>415.750397</td>\n",
       "      <td>414.017362</td>\n",
       "      <td>2.050177</td>\n",
       "      <td>1.281172</td>\n",
       "    </tr>\n",
       "  </tbody>\n",
       "</table>\n",
       "</div>"
      ],
      "text/plain": [
       "               Cast   Latitude  Longitude       Date     Depth  Temperature  \\\n",
       "2915136  15637258.0  44.267502 -63.317699 2013-01-09  0.991947        3.952   \n",
       "2915137  15637258.0  44.267502 -63.317699 2013-01-09  1.487919        3.943   \n",
       "2915138  15637258.0  44.267502 -63.317699 2013-01-09  1.983890        3.937   \n",
       "2915139  15637258.0  44.267502 -63.317699 2013-01-09  2.479859        3.936   \n",
       "2915140  15637258.0  44.267502 -63.317699 2013-01-09  2.975827        3.936   \n",
       "\n",
       "          Salinity          DIC           TA  Platform_Type  season        pH  \\\n",
       "2915136  30.871000  2027.100586  2133.916748            1.0  winter  8.003920   \n",
       "2915137  30.868999  2027.211426  2133.908447            1.0  winter  8.003702   \n",
       "2915138  30.870001  2027.398438  2133.979980            1.0  winter  8.003403   \n",
       "2915139  30.870001  2027.531860  2134.018555            1.0  winter  8.003103   \n",
       "2915140  30.870001  2027.660767  2134.056396            1.0  winter  8.002800   \n",
       "\n",
       "               pCO2        fCO2  saturation_calcite  saturation_aragonite  \n",
       "2915136  414.666359  412.938210            2.056616              1.285192  \n",
       "2915137  414.859819  413.130657            2.054792              1.284039  \n",
       "2915138  415.151286  413.420772            2.053030              1.282941  \n",
       "2915139  415.447770  413.715997            2.051575              1.282038  \n",
       "2915140  415.750397  414.017362            2.050177              1.281172  "
      ]
     },
     "execution_count": 4,
     "metadata": {},
     "output_type": "execute_result"
    }
   ],
   "source": [
    "import PyCO2SYS as pyco2\n",
    "import gsw\n",
    "\n",
    "pressure =  gsw.p_from_z(-df_wod.Depth.values, df_wod.Latitude.values) # water pressure in dbar\n",
    "kwargs = dict(\n",
    "    par1 = df_wod.TA.values,   # TA\n",
    "    par2 = df_wod.DIC.values,  # DIC\n",
    "    par1_type = 1,             # type 1 = alkalinity\n",
    "    par2_type = 2,             # type 2 = DIC\n",
    "    salinity = df_wod.Salinity.values,\n",
    "    temperature = df_wod.Temperature.values,\n",
    "    pressure = pressure,\n",
    "    opt_k_carbonic = 10,  # LDK00, Lueker et al 2000\n",
    "    opt_k_bisulfate = 1,  # D90a, Dickson 1990\n",
    "    opt_total_borate = 2, # LKB10, Lee et al 2010\n",
    "    opt_k_fluoride = 2    # PF87, Perez & Fraga 1987\n",
    ")\n",
    "\n",
    "results = pyco2.sys(**kwargs)\n",
    "co2sys_vars = ['pH', 'pCO2', 'fCO2', 'saturation_calcite', 'saturation_aragonite']\n",
    "for vname in co2sys_vars:\n",
    "    df_wod[vname] = results[vname]\n",
    "\n",
    "df_wod.head()"
   ]
  },
  {
   "cell_type": "markdown",
   "id": "0518c60e-9399-400b-be3e-04fbd5887473",
   "metadata": {},
   "source": [
    "## Save data to HDF5 file"
   ]
  },
  {
   "cell_type": "code",
   "execution_count": 5,
   "id": "690ee6d2-9dd2-4392-8d43-c87b0aa82e72",
   "metadata": {},
   "outputs": [],
   "source": [
    "# yr_min, yr_max = df_wod.Date.dt.year.min(), df_wod.Date.dt.year.max()\n",
    "# outfile = 'data/bgc_all_{}-{}.h5'.format(yr_min, yr_max)\n",
    "# print('writing {}'.format(outfile))\n",
    "# df_wod.to_hdf(outfile, key='df_wod_bgc', mode='w', complevel=9)"
   ]
  },
  {
   "cell_type": "markdown",
   "id": "d78706fd-1503-4954-b644-b000821dc181",
   "metadata": {},
   "source": [
    "## Extract surface & bottom data"
   ]
  },
  {
   "cell_type": "code",
   "execution_count": 6,
   "id": "d94a0920-e03e-4530-88ea-6b46d868ccff",
   "metadata": {},
   "outputs": [],
   "source": [
    "# Exclude glider data\n",
    "df_wod = df_wod[df_wod.Platform_Type!=2]"
   ]
  },
  {
   "cell_type": "code",
   "execution_count": 7,
   "id": "cc03fa79-2e5f-42f5-baff-d5c7dc8664cc",
   "metadata": {},
   "outputs": [],
   "source": [
    "# get surface values (mean for upper 5 m)\n",
    "df_tmp1 = df_wod[df_wod.Depth<=5].groupby('Cast').mean()\n",
    "df_tmp2 = df_wod.loc[df_wod.Depth<=5, ['Cast','Date','season']].groupby('Cast').nth(0)\n",
    "df_surface = pd.concat([df_tmp1, df_tmp2], axis=1)[cols[1:] + ['season'] + co2sys_vars]\n",
    "# # write data to hdf5 file\n",
    "# outfile = 'data/bgc_surface_{}-{}.h5'.format(yr_min, yr_max)\n",
    "# print('writing {}'.format(outfile))\n",
    "# df_surface.to_hdf(outfile, key='df_surface', mode='w', complevel=9)"
   ]
  },
  {
   "cell_type": "code",
   "execution_count": 8,
   "id": "1e78bf27-0f41-4c79-9e80-8b17f4c36ba0",
   "metadata": {},
   "outputs": [],
   "source": [
    "# get values at the bottom of each cast\n",
    "def get_bottom_vals(dfgrp):\n",
    "    return dfgrp.sort_values('Depth')[-1:][cols[1:] + ['season'] + co2sys_vars]\n",
    "\n",
    "df_bottom = df_wod.groupby('Cast').apply(get_bottom_vals).reset_index(1, drop=True)\n",
    "\n",
    "# # write data to hdf5 file\n",
    "# outfile = 'data/bgc_bottom_{}-{}.h5'.format(yr_min, yr_max)\n",
    "# print('writing {}'.format(outfile))\n",
    "# df_bottom.to_hdf(outfile, key='df_bottom', mode='w', complevel=9)"
   ]
  },
  {
   "cell_type": "markdown",
   "id": "5d044cc1-3b85-4069-9adc-a2829eca046f",
   "metadata": {},
   "source": [
    "## Interpolate data into horizontal fields"
   ]
  },
  {
   "cell_type": "markdown",
   "id": "35d22156-13a6-4b17-87b9-2638b44d9ed6",
   "metadata": {},
   "source": [
    "### Create grid"
   ]
  },
  {
   "cell_type": "code",
   "execution_count": 9,
   "id": "f232cd94-0267-4686-a4bd-156c33762013",
   "metadata": {},
   "outputs": [],
   "source": [
    "# lon_min, lon_max = np.round(df_wod.Longitude.min()), np.round(df_wod.Longitude.max())\n",
    "# lat_min, lat_max = np.round(df_wod.Latitude.min()), np.round(df_wod.Latitude.max())\n",
    "\n",
    "lon_min, lon_max = np.round(df_wod.Longitude.min()), -65 # NELME region\n",
    "lat_min, lat_max = np.round(df_wod.Latitude.min()), 45.5 # NELME region\n",
    "\n",
    "# dx = 0.10 # grid resolution in degrees\n",
    "# xx = np.arange(lon_min, lon_max+dx/4, dx)\n",
    "# yy = np.arange(lat_min, lat_max+dx/4, dx)\n",
    "# lon, lat = np.meshgrid(xx, yy)\n",
    "\n",
    "c = (lat_max - lat_min)/(lon_max - lon_min)\n",
    "npts = 89 # number of points -> 0.125 degree resolution\n",
    "xx = np.linspace(lon_min, lon_max, npts)\n",
    "yy = np.linspace(lat_min, lat_max, int(np.round(c * npts)))\n",
    "lon, lat = np.meshgrid(xx, yy)"
   ]
  },
  {
   "cell_type": "markdown",
   "id": "208ce88d-87c4-4652-9f41-62203f445b54",
   "metadata": {},
   "source": [
    "### Create topography mask"
   ]
  },
  {
   "cell_type": "code",
   "execution_count": 11,
   "id": "e25e8d8b-e3db-437d-9a9a-9ff4bfe9ac11",
   "metadata": {},
   "outputs": [],
   "source": [
    "import xarray as xr\n",
    "from scipy.interpolate import griddata\n",
    "\n",
    "ds_topo = xr.open_dataset('../Bottom_water_BGC/data/etopo5.nc')\n",
    "X = np.where(ds_topo.X>180, ds_topo.X-360, ds_topo.X) # 0:360 -> -180:180\n",
    "lon_topo, lat_topo = np.meshgrid(X, ds_topo.Y.values)\n",
    "grid_topo = griddata((lon_topo.ravel(), lat_topo.ravel()), ds_topo.bath.values.ravel(), (lon,lat), method='linear')\n",
    "ds_topo.close()\n",
    "\n",
    "shelf_mask = (grid_topo<-5) & (grid_topo>-600)\n",
    "da_mask = xr.DataArray(shelf_mask, coords={'lat':yy, 'lon':xx},\n",
    "                       attrs = {'long_name':'shelf mask'}, name='SHELF_MASK')"
   ]
  },
  {
   "cell_type": "markdown",
   "id": "d09b09c6-489f-494c-adc4-91a5a9ad7885",
   "metadata": {},
   "source": [
    "### Seasonal fields"
   ]
  },
  {
   "cell_type": "markdown",
   "id": "153f3af3-b097-4bcd-8baf-ac9029b264d2",
   "metadata": {},
   "source": [
    "#### Interpolate surface fields"
   ]
  },
  {
   "cell_type": "code",
   "execution_count": 12,
   "id": "be21683f-05a7-4e84-9569-21ee0458ad37",
   "metadata": {},
   "outputs": [
    {
     "name": "stdout",
     "output_type": "stream",
     "text": [
      "winter\n",
      "spring\n",
      "summer\n",
      "fall\n"
     ]
    }
   ],
   "source": [
    "import pyresample as prs\n",
    "\n",
    "varinfo = {\n",
    "    'Temperature': {\n",
    "        'long_name':'temperature',\n",
    "        'units':'degree C'},\n",
    "    'Salinity': {\n",
    "        'long_name':'salinity',\n",
    "        'units':'PSU'},\n",
    "    'DIC': {\n",
    "        'long_name':'dissolved inorganic carbon',\n",
    "        'units':'micro mol/kg'},\n",
    "    'TA': {\n",
    "        'long_name':'total alkalinity',\n",
    "        'units':'micro mol/kg'},\n",
    "    'pH': {\n",
    "        'long_name':'pH',\n",
    "        'units':''},\n",
    "    'pCO2': {\n",
    "        'long_name':'seawater partial pressure of CO2',\n",
    "        'units':'micro atm'},\n",
    "    'fCO2': {'long_name':'seawater fugacity of CO2',\n",
    "             'units':'micro atm'},\n",
    "    'saturation_calcite': {\n",
    "        'long_name':'calcite saturation state',\n",
    "        'units':''},\n",
    "    'saturation_aragonite':{\n",
    "        'long_name':'aragonite saturation state',\n",
    "        'units':''}\n",
    "}\n",
    "\n",
    "out_grid = prs.geometry.SwathDefinition(lons=lon, lats=lat)\n",
    "radius = 100000 # in meters\n",
    "wf = lambda r: 1 - r/radius # weighting function\n",
    "\n",
    "# dictionary to collect interpolated data\n",
    "datavars = {}\n",
    "for vname in varinfo:\n",
    "    datavars[vname] = []\n",
    "    \n",
    "# interpolate data\n",
    "for season in ['winter','spring','summer','fall']:\n",
    "    print(season)\n",
    "    df = df_surface[df_surface.season==season]\n",
    "    in_grid = prs.geometry.SwathDefinition(lons=df.Longitude.values, lats=df.Latitude.values)\n",
    "    for vname in varinfo:\n",
    "        # arr_data = griddata((df.Longitude, df.Latitude), df[vname], (lon,lat), method='linear')\n",
    "        arr_data = prs.kd_tree.resample_custom(in_grid, df[vname].values, out_grid,\n",
    "                                               radius_of_influence=radius, weight_funcs=wf,\n",
    "                                               fill_value=np.nan, nprocs=2)\n",
    "        datavars[vname].append(arr_data)\n",
    "\n",
    "# dictionary of data arrays\n",
    "vardict = {}\n",
    "seasons = range(1,5)\n",
    "for vname in varinfo:\n",
    "    data = np.stack(datavars[vname], axis=0)\n",
    "    da = xr.DataArray(data, coords={'season':seasons, 'lat':yy, 'lon':xx},\n",
    "                      attrs = varinfo[vname], name=vname)\n",
    "    vardict[vname] = da.where(da_mask)\n",
    "\n",
    "# create xarray DataSet and write it to netcdf file\n",
    "attrs = {'contents':'Seasonal interpolated surface data',\n",
    "         'seasons':'1 = winter (DJF), 2 = spring (MAM), 3 = summer (JJA), 4 = fall (SON)',\n",
    "         'history':'Created by Ivan Lima <ilima@whoi.edu> on {}'.format(datetime.datetime.now().ctime())}\n",
    "ds_surface_seasonal = xr.Dataset(vardict, attrs=attrs)\n",
    "ds_surface_seasonal.to_netcdf('data/bgc_surface_seasonal.nc', mode='w')"
   ]
  },
  {
   "cell_type": "markdown",
   "id": "2cbc242c-a19c-451a-a6b0-f9db750188cc",
   "metadata": {},
   "source": [
    "#### Interpolate bottom fields"
   ]
  },
  {
   "cell_type": "code",
   "execution_count": 13,
   "id": "2da4eb74-3012-4a9c-9ef3-ce463774e224",
   "metadata": {},
   "outputs": [
    {
     "name": "stdout",
     "output_type": "stream",
     "text": [
      "winter\n",
      "spring\n",
      "summer\n",
      "fall\n"
     ]
    }
   ],
   "source": [
    "varinfo_bot = {k:varinfo[k] for k in ['Temperature', 'Salinity', 'DIC', 'TA', 'pH', 'saturation_calcite', 'saturation_aragonite']}\n",
    "\n",
    "# dictionary to collect interpolated data\n",
    "datavars = {}\n",
    "for vname in varinfo_bot:\n",
    "    datavars[vname] = []\n",
    "    \n",
    "# interpolate data\n",
    "for season in ['winter','spring','summer','fall']:\n",
    "    print(season)\n",
    "    df = df_bottom[df_bottom.season==season]\n",
    "    in_grid = prs.geometry.SwathDefinition(lons=df.Longitude.values, lats=df.Latitude.values)\n",
    "    for vname in varinfo_bot:\n",
    "        # arr_data = griddata((df.Longitude, df.Latitude), df[vname], (lon,lat), method='linear')\n",
    "        arr_data = prs.kd_tree.resample_custom(in_grid, df[vname].values, out_grid,\n",
    "                                               radius_of_influence=radius, weight_funcs=wf,\n",
    "                                               fill_value=np.nan, nprocs=2)\n",
    "        datavars[vname].append(arr_data)\n",
    "\n",
    "# dictionary of data arrays\n",
    "vardict = {}\n",
    "for vname in varinfo_bot:\n",
    "    data = np.stack(datavars[vname], axis=0)\n",
    "    da = xr.DataArray(data, coords={'season':seasons, 'lat':yy, 'lon':xx},\n",
    "                      attrs = varinfo[vname], name=vname)\n",
    "    vardict[vname] = da.where(da_mask)\n",
    "\n",
    "# create xarray DataSet and write it to netcdf file\n",
    "attrs = {'contents':'Seasonal interpolated bottom data',\n",
    "         'seasons':'1 = winter (DJF), 2 = spring (MAM), 3 = summer (JJA), 4 = fall (SON)',\n",
    "         'history':'Created by Ivan Lima <ilima@whoi.edu> on {}'.format(datetime.datetime.now().ctime())}\n",
    "ds_bottom_seasonal = xr.Dataset(vardict, attrs=attrs)\n",
    "ds_bottom_seasonal.to_netcdf('data/bgc_bottom_seasonal.nc', mode='w')"
   ]
  },
  {
   "cell_type": "markdown",
   "id": "21fd1975-59e2-4ada-adf3-f6f0998162f8",
   "metadata": {},
   "source": [
    "### Monthly fields"
   ]
  },
  {
   "cell_type": "markdown",
   "id": "d996ca2c-4289-412f-954a-f71f2be53869",
   "metadata": {},
   "source": [
    "#### Interpolate surface fields"
   ]
  },
  {
   "cell_type": "code",
   "execution_count": 14,
   "id": "89a93fb4-0766-4eed-b8b7-d2c41c675736",
   "metadata": {},
   "outputs": [
    {
     "name": "stdout",
     "output_type": "stream",
     "text": [
      "1\n",
      "2\n",
      "3\n",
      "4\n",
      "5\n",
      "6\n",
      "7\n",
      "8\n",
      "9\n",
      "10\n",
      "11\n",
      "12\n"
     ]
    }
   ],
   "source": [
    "# dictionary to collect interpolated data\n",
    "datavars = {}\n",
    "for vname in varinfo:\n",
    "    datavars[vname] = []\n",
    "    \n",
    "# interpolate data\n",
    "months = range(1,13)\n",
    "for mon in months:\n",
    "    print(mon)\n",
    "    df = df_surface[df_surface.Date.dt.month==mon]\n",
    "    in_grid = prs.geometry.SwathDefinition(lons=df.Longitude.values, lats=df.Latitude.values)\n",
    "    for vname in varinfo:\n",
    "        # arr_data = griddata((df.Longitude, df.Latitude), df[vname], (lon,lat), method='linear')\n",
    "        arr_data = prs.kd_tree.resample_custom(in_grid, df[vname].values, out_grid,\n",
    "                                               radius_of_influence=radius, weight_funcs=wf,\n",
    "                                               fill_value=np.nan, nprocs=2)\n",
    "        datavars[vname].append(arr_data)\n",
    "\n",
    "# dictionary of data arrays\n",
    "vardict = {}\n",
    "for vname in varinfo:\n",
    "    data = np.stack(datavars[vname], axis=0)\n",
    "    da = xr.DataArray(data, coords={'month':months, 'lat':yy, 'lon':xx},\n",
    "                      attrs = varinfo[vname], name=vname)\n",
    "    vardict[vname] = da.where(da_mask)\n",
    "\n",
    "# create xarray DataSet and write it to netcdf file\n",
    "attrs = {'contents':'Monthly interpolated surface data',\n",
    "         'history':'Created by Ivan Lima <ilima@whoi.edu> on {}'.format(datetime.datetime.now().ctime())}\n",
    "ds_surface_monthly = xr.Dataset(vardict, attrs=attrs)\n",
    "ds_surface_monthly.to_netcdf('data/bgc_surface_monthly.nc', mode='w')"
   ]
  },
  {
   "cell_type": "markdown",
   "id": "edd181d4-dbf9-4465-ac6a-18ddcc19018b",
   "metadata": {},
   "source": [
    "#### Interpolate bottom fields"
   ]
  },
  {
   "cell_type": "code",
   "execution_count": 15,
   "id": "ee84f757-d6d2-42cc-9d1a-7752eb5e9ebf",
   "metadata": {},
   "outputs": [
    {
     "name": "stdout",
     "output_type": "stream",
     "text": [
      "1\n",
      "2\n",
      "3\n",
      "4\n",
      "5\n",
      "6\n",
      "7\n",
      "8\n",
      "9\n",
      "10\n",
      "11\n",
      "12\n"
     ]
    }
   ],
   "source": [
    "# dictionary to collect interpolated data\n",
    "datavars = {}\n",
    "for vname in varinfo_bot:\n",
    "    datavars[vname] = []\n",
    "    \n",
    "# interpolate data\n",
    "for mon in months:\n",
    "    print(mon)\n",
    "    df = df_bottom[df_bottom.Date.dt.month==mon]\n",
    "    in_grid = prs.geometry.SwathDefinition(lons=df.Longitude.values, lats=df.Latitude.values)\n",
    "    for vname in varinfo_bot:\n",
    "        # arr_data = griddata((df.Longitude, df.Latitude), df[vname], (lon,lat), method='linear')\n",
    "        arr_data = prs.kd_tree.resample_custom(in_grid, df[vname].values, out_grid,\n",
    "                                               radius_of_influence=radius, weight_funcs=wf,\n",
    "                                               fill_value=np.nan, nprocs=2)\n",
    "        datavars[vname].append(arr_data)\n",
    "\n",
    "# dictionary of data arrays\n",
    "vardict = {}\n",
    "for vname in varinfo_bot:\n",
    "    data = np.stack(datavars[vname], axis=0)\n",
    "    da = xr.DataArray(data, coords={'month':months, 'lat':yy, 'lon':xx},\n",
    "                      attrs = varinfo[vname], name=vname)\n",
    "    vardict[vname] = da.where(da_mask)\n",
    "\n",
    "# create xarray DataSet and write it to netcdf file\n",
    "attrs = {'contents':'Monthly interpolated bottom data',\n",
    "         'history':'Created by Ivan Lima <ilima@whoi.edu> on {}'.format(datetime.datetime.now().ctime())}\n",
    "ds_bottom_monthly = xr.Dataset(vardict, attrs=attrs)\n",
    "ds_bottom_monthly.to_netcdf('data/bgc_bottom_monthly.nc', mode='w')"
   ]
  }
 ],
 "metadata": {
  "kernelspec": {
   "display_name": "Python 3 (ipykernel)",
   "language": "python",
   "name": "python3"
  },
  "language_info": {
   "codemirror_mode": {
    "name": "ipython",
    "version": 3
   },
   "file_extension": ".py",
   "mimetype": "text/x-python",
   "name": "python",
   "nbconvert_exporter": "python",
   "pygments_lexer": "ipython3",
   "version": "3.9.13"
  },
  "widgets": {
   "application/vnd.jupyter.widget-state+json": {
    "state": {},
    "version_major": 2,
    "version_minor": 0
   }
  }
 },
 "nbformat": 4,
 "nbformat_minor": 5
}
