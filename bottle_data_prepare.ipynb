{
 "cells": [
  {
   "cell_type": "markdown",
   "id": "e8d0bfcb-cae7-4dd5-adec-87f3d0d2a2e4",
   "metadata": {},
   "source": [
    "# Prepare bottle data for ML model\n",
    "Created by Ivan Lima on Wed Jan 11 2023 20:35:51 -0500"
   ]
  },
  {
   "cell_type": "code",
   "execution_count": 1,
   "id": "fbdcc00b-807c-4c3c-a7d7-e8ae1d350a80",
   "metadata": {},
   "outputs": [
    {
     "name": "stdout",
     "output_type": "stream",
     "text": [
      "Last updated on Wed Jan 18 22:24:07 2023\n"
     ]
    }
   ],
   "source": [
    "%matplotlib inline\n",
    "import pandas as pd\n",
    "import xarray as xr\n",
    "import numpy as np\n",
    "import seaborn as sns\n",
    "import matplotlib.pyplot as plt\n",
    "import os, datetime, glob, warnings\n",
    "from ccsm_utils import find_stn, find_stn_idx, find_closest_pt, extract_loc\n",
    "from cesm_utils import da2ma\n",
    "print('Last updated on {}'.format(datetime.datetime.now().ctime()))"
   ]
  },
  {
   "cell_type": "code",
   "execution_count": 2,
   "id": "9c2defc9-6a7b-49b2-8a01-54939938559f",
   "metadata": {},
   "outputs": [],
   "source": [
    "import sns_settings\n",
    "sns.set_context('paper')\n",
    "pd.options.display.max_columns = 50\n",
    "warnings.filterwarnings('ignore')"
   ]
  },
  {
   "cell_type": "markdown",
   "id": "7e6cb249-a372-41d4-912c-527d2ff38cb7",
   "metadata": {},
   "source": [
    "## Load bottle data"
   ]
  },
  {
   "cell_type": "code",
   "execution_count": 3,
   "id": "883d1984-4914-44e2-9a5e-497403c80859",
   "metadata": {},
   "outputs": [
    {
     "name": "stdout",
     "output_type": "stream",
     "text": [
      "<class 'pandas.core.frame.DataFrame'>\n",
      "RangeIndex: 8160 entries, 0 to 8159\n",
      "Data columns (total 24 columns):\n",
      " #   Column            Non-Null Count  Dtype         \n",
      "---  ------            --------------  -----         \n",
      " 0   Accession         7668 non-null   float64       \n",
      " 1   EXPOCODE          7345 non-null   object        \n",
      " 2   Cruise_ID         8160 non-null   object        \n",
      " 3   Observation_type  7346 non-null   object        \n",
      " 4   Station_ID        8058 non-null   object        \n",
      " 5   Cast_number       7994 non-null   float64       \n",
      " 6   Niskin_ID         7892 non-null   float64       \n",
      " 7   Sample_ID         7345 non-null   float64       \n",
      " 8   Date              8160 non-null   datetime64[ns]\n",
      " 9   Latitude          8160 non-null   float64       \n",
      " 10  Longitude         8160 non-null   float64       \n",
      " 11  Season            8160 non-null   object        \n",
      " 12  Pressure          8160 non-null   float64       \n",
      " 13  Depth             8160 non-null   float64       \n",
      " 14  Temperature       8142 non-null   float64       \n",
      " 15  Temperature_flag  8058 non-null   float64       \n",
      " 16  Salinity          8100 non-null   float64       \n",
      " 17  Salinity_flag     8058 non-null   float64       \n",
      " 18  Oxygen            6264 non-null   float64       \n",
      " 19  Oxygen_flag       8058 non-null   float64       \n",
      " 20  DIC               4665 non-null   float64       \n",
      " 21  DIC_flag          8160 non-null   int64         \n",
      " 22  TALK              4432 non-null   float64       \n",
      " 23  TALK_flag         8160 non-null   int64         \n",
      "dtypes: datetime64[ns](1), float64(16), int64(2), object(5)\n",
      "memory usage: 1.5+ MB\n"
     ]
    }
   ],
   "source": [
    "df_bottle = pd.read_csv('data/CODAP_combined.csv', parse_dates=['Date'], na_values=['<undefined>',-999])\n",
    "\n",
    "# add seasons\n",
    "df_bottle.loc[df_bottle.Date.dt.month.isin([12, 1, 2]),'Season'] = 'winter'\n",
    "df_bottle.loc[df_bottle.Date.dt.month.isin([3, 4, 5]),'Season'] = 'spring'\n",
    "df_bottle.loc[df_bottle.Date.dt.month.isin([6, 7, 8]),'Season'] = 'summer'\n",
    "df_bottle.loc[df_bottle.Date.dt.month.isin([9, 10, 11]),'Season'] = 'fall'\n",
    "\n",
    "# select variables\n",
    "cols = ['Accession', 'EXPOCODE', 'Cruise_ID', 'Observation_type', 'Station_ID', 'Cast_number',\n",
    "        'Niskin_ID', 'Sample_ID', 'Date', 'Latitude', 'Longitude', 'Season', 'CTDPRES',\n",
    "        'Depth', 'CTDTEMP_ITS90', 'CTDTEMP_flag', 'recommended_Salinity_PSS78',\n",
    "        'recommended_Salinity_flag', 'recommended_Oxygen', 'recommended_Oxygen_flag',\n",
    "        'DIC', 'DIC_flag', 'TALK', 'TALK_flag']\n",
    "\n",
    "# rename some variables\n",
    "col_new_names = {'CTDPRES': 'Pressure',\n",
    "                 'CTDTEMP_ITS90': 'Temperature',\n",
    "                 'CTDTEMP_flag': 'Temperature_flag',\n",
    "                 'recommended_Salinity_PSS78': 'Salinity',\n",
    "                 'recommended_Salinity_flag': 'Salinity_flag',\n",
    "                 'recommended_Oxygen': 'Oxygen',\n",
    "                 'recommended_Oxygen_flag': 'Oxygen_flag'}\n",
    "df_bottle = df_bottle[cols].rename(columns=col_new_names)\n",
    "\n",
    "df_bottle.info()"
   ]
  },
  {
   "cell_type": "markdown",
   "id": "e588b8cf-6aed-4e6e-b8f7-67e1d0918c61",
   "metadata": {},
   "source": [
    "## Clean data "
   ]
  },
  {
   "cell_type": "markdown",
   "id": "8ee37643-cfd6-4bd9-9c97-21fcce91cfc7",
   "metadata": {},
   "source": [
    "Data flags:\n",
    " - Flag = 2: good data (keep)\n",
    " - Flag = 6: average of lab reps (keep). \n",
    " - Flag = 3: questionable data (remove)\n",
    " - Flag = 9: no measurement (remove)\n",
    " - Flag = NaN: no flag given"
   ]
  },
  {
   "cell_type": "code",
   "execution_count": 4,
   "id": "0b7462d6-13f2-41d0-b6ec-958dbc330fa9",
   "metadata": {},
   "outputs": [
    {
     "name": "stdout",
     "output_type": "stream",
     "text": [
      "<class 'pandas.core.frame.DataFrame'>\n",
      "Int64Index: 4350 entries, 9 to 8158\n",
      "Data columns (total 19 columns):\n",
      " #   Column            Non-Null Count  Dtype         \n",
      "---  ------            --------------  -----         \n",
      " 0   Accession         3967 non-null   float64       \n",
      " 1   EXPOCODE          3851 non-null   object        \n",
      " 2   Cruise_ID         4350 non-null   object        \n",
      " 3   Observation_type  3852 non-null   object        \n",
      " 4   Station_ID        4350 non-null   object        \n",
      " 5   Cast_number       4208 non-null   float64       \n",
      " 6   Niskin_ID         4208 non-null   float64       \n",
      " 7   Sample_ID         3851 non-null   float64       \n",
      " 8   Date              4350 non-null   datetime64[ns]\n",
      " 9   Latitude          4350 non-null   float64       \n",
      " 10  Longitude         4350 non-null   float64       \n",
      " 11  Season            4350 non-null   object        \n",
      " 12  Pressure          4350 non-null   float64       \n",
      " 13  Depth             4350 non-null   float64       \n",
      " 14  Temperature       4350 non-null   float64       \n",
      " 15  Salinity          4350 non-null   float64       \n",
      " 16  Oxygen            3990 non-null   float64       \n",
      " 17  Oxygen_flag       4350 non-null   float64       \n",
      " 18  DIC               4350 non-null   float64       \n",
      "dtypes: datetime64[ns](1), float64(13), object(5)\n",
      "memory usage: 679.7+ KB\n"
     ]
    }
   ],
   "source": [
    "df_bottle_dic = df_bottle.loc[df_bottle.DIC_flag.isin([2, 6])].drop(['DIC_flag', 'TALK', 'TALK_flag'], axis=1)\n",
    "df_bottle_dic = df_bottle_dic.loc[df_bottle_dic.Temperature_flag.isin([2, 6])].drop('Temperature_flag', axis=1)\n",
    "df_bottle_dic = df_bottle_dic.loc[df_bottle_dic.Salinity_flag.isin([2, 6])].drop('Salinity_flag', axis=1)\n",
    "df_bottle_dic.info()"
   ]
  },
  {
   "cell_type": "code",
   "execution_count": 5,
   "id": "d3f0566d-d07c-498a-9534-e05746528dc7",
   "metadata": {},
   "outputs": [
    {
     "name": "stdout",
     "output_type": "stream",
     "text": [
      "<class 'pandas.core.frame.DataFrame'>\n",
      "Int64Index: 4151 entries, 32 to 8158\n",
      "Data columns (total 19 columns):\n",
      " #   Column            Non-Null Count  Dtype         \n",
      "---  ------            --------------  -----         \n",
      " 0   Accession         3766 non-null   float64       \n",
      " 1   EXPOCODE          3650 non-null   object        \n",
      " 2   Cruise_ID         4151 non-null   object        \n",
      " 3   Observation_type  3651 non-null   object        \n",
      " 4   Station_ID        4151 non-null   object        \n",
      " 5   Cast_number       4041 non-null   float64       \n",
      " 6   Niskin_ID         4041 non-null   float64       \n",
      " 7   Sample_ID         3650 non-null   float64       \n",
      " 8   Date              4151 non-null   datetime64[ns]\n",
      " 9   Latitude          4151 non-null   float64       \n",
      " 10  Longitude         4151 non-null   float64       \n",
      " 11  Season            4151 non-null   object        \n",
      " 12  Pressure          4151 non-null   float64       \n",
      " 13  Depth             4151 non-null   float64       \n",
      " 14  Temperature       4151 non-null   float64       \n",
      " 15  Salinity          4151 non-null   float64       \n",
      " 16  Oxygen            3818 non-null   float64       \n",
      " 17  Oxygen_flag       4151 non-null   float64       \n",
      " 18  TALK              4151 non-null   float64       \n",
      "dtypes: datetime64[ns](1), float64(13), object(5)\n",
      "memory usage: 648.6+ KB\n"
     ]
    }
   ],
   "source": [
    "df_bottle_ta = df_bottle.loc[df_bottle.TALK_flag.isin([2, 6])].drop(['TALK_flag', 'DIC', 'DIC_flag'], axis=1)\n",
    "df_bottle_ta = df_bottle_ta.loc[df_bottle_ta.Temperature_flag.isin([2, 6])].drop('Temperature_flag', axis=1)\n",
    "df_bottle_ta = df_bottle_ta.loc[df_bottle_ta.Salinity_flag.isin([2, 6])].drop('Salinity_flag', axis=1)\n",
    "df_bottle_ta.info()"
   ]
  },
  {
   "cell_type": "markdown",
   "id": "f023a5f7-1517-4d79-af0d-fb69c25872b2",
   "metadata": {},
   "source": [
    "### Data distribution by year, month & season"
   ]
  },
  {
   "cell_type": "code",
   "execution_count": 6,
   "id": "dfdaae8f-344d-4f0a-bf5f-bf759896d19f",
   "metadata": {},
   "outputs": [
    {
     "data": {
      "image/png": "[encoded data removed]",
      "text/plain": [
       "<Figure size 1600x500 with 3 Axes>"
      ]
     },
     "metadata": {},
     "output_type": "display_data"
    }
   ],
   "source": [
    "df_dic1 = df_bottle_dic.groupby(df_bottle_dic.Date.dt.year)[['DIC']].count()\n",
    "df_ta1 = df_bottle_ta.groupby(df_bottle_ta.Date.dt.year)[['TALK']].count()\n",
    "df_year = (\n",
    "    df_dic1.join(df_ta1)\n",
    "    .fillna(0)\n",
    "    .reset_index()\n",
    "    .melt(value_vars=['DIC','TALK'], id_vars='Date')\n",
    "    .rename(columns={'Date':'Year', 'value':'# samples'})\n",
    ")\n",
    "df_dic2 = df_bottle_dic.groupby('Season')[['DIC']].count()\n",
    "df_ta2 = df_bottle_ta.groupby('Season')[['TALK']].count()\n",
    "df_season = (\n",
    "    df_dic2.join(df_ta2)\n",
    "    .fillna(0)\n",
    "    .reset_index()\n",
    "    .melt(value_vars=['DIC','TALK'], id_vars='Season')\n",
    "    .rename(columns={'Date':'Year', 'value':'# samples'})\n",
    ")\n",
    "df_dic3 = df_bottle_dic.groupby(df_bottle_dic.Date.dt.month)[['DIC']].count()\n",
    "df_ta3 = df_bottle_ta.groupby(df_bottle_ta.Date.dt.month)[['TALK']].count()\n",
    "df_month = (\n",
    "    df_dic3.join(df_ta3)\n",
    "    .fillna(0)\n",
    "    .reset_index()\n",
    "    .melt(value_vars=['DIC','TALK'], id_vars='Date')\n",
    "    .rename(columns={'Date':'Month', 'value':'# samples'})\n",
    ")\n",
    "fig, axs = plt.subplots(1, 3, figsize=(16, 5))\n",
    "_ = sns.barplot(x='Year', y='# samples', data=df_year, hue='variable', ax=axs[0])\n",
    "_ = sns.barplot(x='Month', y='# samples', data=df_month, hue='variable', ax=axs[1])\n",
    "_ = sns.barplot(x='Season', y='# samples', data=df_season, hue='variable', order=['winter','spring','summer','fall'], ax=axs[2])"
   ]
  },
  {
   "cell_type": "markdown",
   "id": "c602c940-1bde-4586-8959-28de3e298968",
   "metadata": {},
   "source": [
    "## Add atmospheric pCO2 data (annual mean) "
   ]
  },
  {
   "cell_type": "code",
   "execution_count": 7,
   "id": "1e282492-2afb-486f-bf6c-215eb697338e",
   "metadata": {},
   "outputs": [],
   "source": [
    "# load at pCO2 data\n",
    "df_atm_pco2 = pd.read_csv('data/co2_annmean_mlo.csv', skiprows=59)\n",
    "df_atm_pco2 = df_atm_pco2.rename(columns={'mean':'pCO2_atm'}).drop('unc', axis=1)\n",
    "# df_atm_pco2.head()\n",
    "\n",
    "df_bottle_dic['year'] = df_bottle_dic.Date.dt.year\n",
    "df_bottle_dic = pd.merge(df_bottle_dic, df_atm_pco2, on='year').drop('year', axis=1)\n",
    "\n",
    "df_bottle_ta['year'] = df_bottle_ta.Date.dt.year\n",
    "df_bottle_ta = pd.merge(df_bottle_ta, df_atm_pco2, on='year').drop('year', axis=1)"
   ]
  },
  {
   "cell_type": "markdown",
   "id": "2ef8e753-5812-407f-8c00-15c2147e1104",
   "metadata": {},
   "source": [
    "## Add satellite data"
   ]
  },
  {
   "cell_type": "code",
   "execution_count": null,
   "id": "923ab405-5be8-4a4d-a6a7-e00dfb42022e",
   "metadata": {},
   "outputs": [],
   "source": [
    "# extract satellite data at observation dates & locations\n",
    "\n",
    "def extract_satellite_data(df_in):\n",
    "    ssh_dir = '/bali/data/ilima/Satellite_Data/AVISO/daily/'\n",
    "    sst_dir = '/bali/data/ilima/Satellite_Data/SST/NOAA_OI/'\n",
    "    # sst_hr_dir = '/bali/data/ilima/Satellite_Data/SST/PO.DAAC/'\n",
    "    sst_hr_dir = '/home/ivan/Data/Postproc/Satellite_Data/PO.DAAC/'\n",
    "    chl_dir = '/bali/data/ilima/Satellite_Data/Ocean_Color/Chl/daily/'\n",
    "    kd490_dir = '/bali/data/ilima/Satellite_Data/Ocean_Color/KD490/daily/'\n",
    "    \n",
    "    df_obs = df_in.copy()\n",
    "    for i in df_obs.index:\n",
    "        year, month, day = df_obs.loc[i,'Date'].year, df_obs.loc[i,'Date'].month, df_obs.loc[i,'Date'].day\n",
    "        doy = df_obs.loc[i,'Date'].day_of_year\n",
    "\n",
    "        # extract AVISO SSH data\n",
    "        ssh_file = glob.glob(ssh_dir + '{}/{:02}/dt_global_allsat_phy_l4_{}{:02}{:02}_????????.nc'.format(year,month,year,month,day))\n",
    "        if ssh_file:\n",
    "            with xr.open_dataset(ssh_file[0]) as ds:\n",
    "                lon_sat, lat_sat = np.meshgrid(ds.longitude, ds.latitude)\n",
    "                lon_obs, lat_obs = df_obs.loc[i,['Longitude','Latitude']]\n",
    "                lon_obs = lon_obs + 360.\n",
    "                for var in ['adt','sla']:\n",
    "                    df_obs.loc[i,var.upper()] = extract_loc(lon_obs, lat_obs, lon_sat, lat_sat, da2ma(ds[var]))\n",
    "        else:\n",
    "            print('SSH i={} ({}-{:02}-{:02})'.format(i, year, month, day), end=', ')\n",
    "\n",
    "        # extract SST (0.25 x 0.25 degree) data\n",
    "        sst_file = glob.glob(sst_dir + '{}/{:03d}/{}*AVHRR_OI*.nc'.format(year,doy,year))\n",
    "        if sst_file:\n",
    "            with xr.open_dataset(sst_file[0]) as ds:\n",
    "                lon_sat, lat_sat = np.meshgrid(ds.lon, ds.lat)\n",
    "                lon_obs, lat_obs = df_obs.loc[i,['Longitude','Latitude']]\n",
    "                data = da2ma(ds['analysed_sst'].squeeze() - 273.15) # Kelvin -> Celsius\n",
    "                df_obs.loc[i,'SST'] = extract_loc(lon_obs, lat_obs, lon_sat, lat_sat, data)\n",
    "        else:\n",
    "            print('SST1 i={} ({}-{:02}-{:02})'.format(i, year, month, day), end=', ')\n",
    "\n",
    "        # extract high res SST (0.01 x 0.01 degree) data\n",
    "        # sst_hr_file = sst_hr_dir + '{}/{:03d}/{}{:02}{:02}090000-JPL-L4_GHRSST-SSTfnd-MUR-GLOB-v02.0-fv04.1.nc'.format(year,doy,year,month,day)\n",
    "        sst_hr_file = sst_hr_dir + 'subset_{}{:02}{:02}090000-JPL-L4_GHRSST-SSTfnd-MUR-GLOB-v02.0-fv04.1.nc'.format(year,month,day)\n",
    "        if os.path.isfile(sst_hr_file):\n",
    "            with xr.open_dataset(sst_hr_file) as ds:\n",
    "                lon_sat, lat_sat = np.meshgrid(ds.lon, ds.lat)\n",
    "                lon_obs, lat_obs = df_obs.loc[i,['Longitude','Latitude']]\n",
    "                data = da2ma(ds['analysed_sst'].squeeze() - 273.15) # Kelvin -> Celsius\n",
    "                df_obs.loc[i,'SST_hires'] = extract_loc(lon_obs, lat_obs, lon_sat, lat_sat, data)\n",
    "        else:\n",
    "            print('SST2 i={} ({}-{:02}-{:02})'.format(i, year, month, day), end=', ')\n",
    "\n",
    "        # extract surface Chl (~4.64 Km resolution)\n",
    "        chl_file = chl_dir + '{}/{:02}/{}{:02}{:02}_d-ACRI-L4-CHL-MULTI_4KM-GLO-REP.nc'.format(year,month,year,month,day)\n",
    "        if os.path.isfile(chl_file):\n",
    "            with xr.open_dataset(chl_file) as ds:\n",
    "                lon_sat, lat_sat = np.meshgrid(ds.lon, ds.lat)\n",
    "                lon_obs, lat_obs = df_obs.loc[i,['Longitude','Latitude']]\n",
    "                data = da2ma(ds['CHL'].squeeze())\n",
    "                df_obs.loc[i,'Chl'] = extract_loc(lon_obs, lat_obs, lon_sat, lat_sat, data)\n",
    "        else:\n",
    "            print('Chl i={} ({}-{:02}-{:02})'.format(i, year, month, day), end=', ')\n",
    "\n",
    "        # extract surface KD490 (~4.64 Km resolution)\n",
    "        kd490_file = kd490_dir + '{}/{:02}/{}{:02}{:02}_d-ACRI-L4-KD490-MULTI_4KM-GLO-REP.nc'.format(year,month,year,month,day)\n",
    "        if os.path.isfile(kd490_file):\n",
    "            with xr.open_dataset(kd490_file) as ds:\n",
    "                lon_sat, lat_sat = np.meshgrid(ds.lon, ds.lat)\n",
    "                lon_obs, lat_obs = df_obs.loc[i,['Longitude','Latitude']]\n",
    "                data = da2ma(ds['KD490'].squeeze())\n",
    "                df_obs.loc[i,'KD490'] = extract_loc(lon_obs, lat_obs, lon_sat, lat_sat, data)\n",
    "        else:\n",
    "            print('KD490 i={} ({}-{:02}-{:02})'.format(i, year, month, day), end=' | ')\n",
    "\n",
    "    return df_obs\n",
    "\n",
    "df_bottle_dic = extract_satellite_data(df_bottle_dic)\n",
    "df_bottle_ta = extract_satellite_data(df_bottle_ta)"
   ]
  },
  {
   "cell_type": "markdown",
   "id": "44d6033c-60bf-4431-9213-3169b8dacdd7",
   "metadata": {},
   "source": [
    "## Save cleaned data to CSV file"
   ]
  },
  {
   "cell_type": "code",
   "execution_count": null,
   "id": "5085f660-f1aa-4ed7-87f4-fd578652109f",
   "metadata": {},
   "outputs": [],
   "source": [
    "df_bottle_dic.to_csv('data/bottle_data_DIC_prepared.csv')\n",
    "df_bottle_ta.to_csv('data/bottle_data_TA_prepared.csv')"
   ]
  }
 ],
 "metadata": {
  "kernelspec": {
   "display_name": "Python 3 (ipykernel)",
   "language": "python",
   "name": "python3"
  },
  "language_info": {
   "codemirror_mode": {
    "name": "ipython",
    "version": 3
   },
   "file_extension": ".py",
   "mimetype": "text/x-python",
   "name": "python",
   "nbconvert_exporter": "python",
   "pygments_lexer": "ipython3",
   "version": "3.9.13"
  },
  "widgets": {
   "application/vnd.jupyter.widget-state+json": {
    "state": {},
    "version_major": 2,
    "version_minor": 0
   }
  }
 },
 "nbformat": 4,
 "nbformat_minor": 5
}
